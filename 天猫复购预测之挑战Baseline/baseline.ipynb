{
 "cells": [
  {
   "cell_type": "markdown",
   "metadata": {
    "toc": true
   },
   "source": [
    "<h1>Table of Contents<span class=\"tocSkip\"></span></h1>\n",
    "<div class=\"toc\"><ul class=\"toc-item\"><li><span><a href=\"#数据处理和特征构建\" data-toc-modified-id=\"数据处理和特征构建-1\"><span class=\"toc-item-num\">1&nbsp;&nbsp;</span>数据处理和特征构建</a></span><ul class=\"toc-item\"><li><span><a href=\"#特征工程大致思路：\" data-toc-modified-id=\"特征工程大致思路：-1.1\"><span class=\"toc-item-num\">1.1&nbsp;&nbsp;</span>特征工程大致思路：</a></span></li><li><span><a href=\"#填充缺失值\" data-toc-modified-id=\"填充缺失值-1.2\"><span class=\"toc-item-num\">1.2&nbsp;&nbsp;</span>填充缺失值</a></span></li><li><span><a href=\"#查看变量分布\" data-toc-modified-id=\"查看变量分布-1.3\"><span class=\"toc-item-num\">1.3&nbsp;&nbsp;</span>查看变量分布</a></span></li><li><span><a href=\"#特征构造\" data-toc-modified-id=\"特征构造-1.4\"><span class=\"toc-item-num\">1.4&nbsp;&nbsp;</span>特征构造</a></span><ul class=\"toc-item\"><li><span><a href=\"#聚合特征\" data-toc-modified-id=\"聚合特征-1.4.1\"><span class=\"toc-item-num\">1.4.1&nbsp;&nbsp;</span>聚合特征</a></span></li><li><span><a href=\"#双11相关特征\" data-toc-modified-id=\"双11相关特征-1.4.2\"><span class=\"toc-item-num\">1.4.2&nbsp;&nbsp;</span>双11相关特征</a></span></li></ul></li></ul></li><li><span><a href=\"#模型构建和训练&amp;评估\" data-toc-modified-id=\"模型构建和训练&amp;评估-2\"><span class=\"toc-item-num\">2&nbsp;&nbsp;</span>模型构建和训练&amp;评估</a></span><ul class=\"toc-item\"><li><span><a href=\"#数据准备，评估函数准备\" data-toc-modified-id=\"数据准备，评估函数准备-2.1\"><span class=\"toc-item-num\">2.1&nbsp;&nbsp;</span>数据准备，评估函数准备</a></span></li><li><span><a href=\"#逻辑回归LR\" data-toc-modified-id=\"逻辑回归LR-2.2\"><span class=\"toc-item-num\">2.2&nbsp;&nbsp;</span>逻辑回归LR</a></span><ul class=\"toc-item\"><li><span><a href=\"#原始数据\" data-toc-modified-id=\"原始数据-2.2.1\"><span class=\"toc-item-num\">2.2.1&nbsp;&nbsp;</span>原始数据</a></span></li><li><span><a href=\"#对样本作平衡处理\" data-toc-modified-id=\"对样本作平衡处理-2.2.2\"><span class=\"toc-item-num\">2.2.2&nbsp;&nbsp;</span>对样本作平衡处理</a></span></li></ul></li><li><span><a href=\"#LightGBM\" data-toc-modified-id=\"LightGBM-2.3\"><span class=\"toc-item-num\">2.3&nbsp;&nbsp;</span>LightGBM</a></span></li><li><span><a href=\"#MLP（tensorflow）\" data-toc-modified-id=\"MLP（tensorflow）-2.4\"><span class=\"toc-item-num\">2.4&nbsp;&nbsp;</span>MLP（tensorflow）</a></span></li></ul></li><li><span><a href=\"#最后输出预测结果\" data-toc-modified-id=\"最后输出预测结果-3\"><span class=\"toc-item-num\">3&nbsp;&nbsp;</span>最后输出预测结果</a></span></li><li><span><a href=\"#更多的讨论\" data-toc-modified-id=\"更多的讨论-4\"><span class=\"toc-item-num\">4&nbsp;&nbsp;</span>更多的讨论</a></span></li></ul></div>"
   ]
  },
  {
   "cell_type": "markdown",
   "metadata": {},
   "source": [
    "天猫复购预测\n",
    "\n",
    "写在最前面：\n",
    "\n",
    "这个任务感觉需要在特征工程上多花心思，看了大家发布的notebook，感觉一些特征是有共性的，已经做的非常成熟了（eg：分类变量编码，点击率，渗透率等等）。\n",
    "\n",
    "我的notebook中除了一些基础的特征构建，主要还会着眼于双11这个特殊时间节点的有关特征构造。\n",
    "\n",
    "学习器采用了LR, LGB和MLP，判断标准是auc（看了一些notebook用分类准确率acc作为模型评估标准，显然是不可行的，因为样本严重不平衡，准确率可以轻松达到95%以上，但召回可能是0，用auc作为评价准则比较合理。）"
   ]
  },
  {
   "cell_type": "markdown",
   "metadata": {},
   "source": [
    "# 数据处理和特征构建\n",
    "\n",
    "## 特征工程大致思路：\n",
    "\n",
    ">聚合特征：\n",
    ">\n",
    ">**toB:**  每个品类(或者其他unit)的销量/收藏量/加购量/点击量，渗透率\n",
    ">\n",
    ">**toC:**  这个人的总购买量/.../...，当天前一段时间内的购买量/.../...,\n",
    "\n",
    ">活动辨识：\n",
    ">\n",
    ">是否双11（双十一的行为和之前会有很大差距）\n",
    "\n",
    ">用户信息\n",
    ">\n",
    ">分类变量（Gender, age）的编码等\n"
   ]
  },
  {
   "cell_type": "code",
   "execution_count": null,
   "metadata": {},
   "outputs": [],
   "source": [
    "import pandas as pd\n",
    "train_df = pd.read_csv('train.csv')\n",
    "test_df = pd.read_csv('test.csv')\n",
    "user_info = pd.read_csv('./user_info_format1.csv')\n",
    "user_log = pd.read_csv('./user_log_format_1.csv').rename(columns={'seller_id':'merchant_id'})"
   ]
  },
  {
   "cell_type": "markdown",
   "metadata": {},
   "source": [
    "## 填充缺失值"
   ]
  },
  {
   "cell_type": "code",
   "execution_count": 3,
   "metadata": {},
   "outputs": [],
   "source": [
    "#填充缺失值\n",
    "user_info['gender'].fillna(2, inplace=True) #2和null都代表性别不确定\n",
    "user_info['age_range'].fillna(-1, inplace=True)\n",
    "user_log['brand_id'].fillna(-1, inplace=True)"
   ]
  },
  {
   "cell_type": "markdown",
   "metadata": {},
   "source": [
    "## 查看变量分布\n",
    "action type中大部分都是click，真正的购买行为很少"
   ]
  },
  {
   "cell_type": "code",
   "execution_count": 5,
   "metadata": {},
   "outputs": [
    {
     "data": {
      "image/png": "[encoded data removed]",
      "text/plain": [
       "<Figure size 864x288 with 3 Axes>"
      ]
     },
     "metadata": {
      "needs_background": "light"
     },
     "output_type": "display_data"
    }
   ],
   "source": [
    "from matplotlib import pyplot as plt\n",
    "plt.figure(figsize=(12,4))\n",
    "plt.subplot(1,3,1)\n",
    "plt.hist(user_log['time_stamp']) #time_tamp 购买时间（格式：mmdd）\n",
    "plt.title('time_stamp')\n",
    "plt.subplot(1,3,2)\n",
    "plt.hist(user_log['action_type'])\n",
    "plt.title('action_type') #action_type包含{0, 1, 2, 3}，0表示单击，1表示添加到购物车，2表示购买，3表示添加到收藏夹\n",
    "plt.subplot(1,3,3)\n",
    "plt.hist(user_info['gender']) #gender用户性别。0表示女性，1表示男性，2和NULL表示未知\n",
    "plt.title('gender')\n",
    "plt.show()"
   ]
  },
  {
   "cell_type": "markdown",
   "metadata": {},
   "source": [
    "各种行为基本上都是在双十一激增，这一块的特殊性是有的挖的"
   ]
  },
  {
   "cell_type": "code",
   "execution_count": 3,
   "metadata": {},
   "outputs": [
    {
     "data": {
      "image/png": "[encoded data removed]",
      "text/plain": [
       "<Figure size 432x288 with 1 Axes>"
      ]
     },
     "metadata": {
      "needs_background": "light"
     },
     "output_type": "display_data"
    }
   ],
   "source": [
    "from matplotlib import pyplot as plt\n",
    "plt.plot(user_log[user_log['action_type']==2].groupby('time_stamp').count()['action_type'])\n",
    "plt.show()"
   ]
  },
  {
   "cell_type": "markdown",
   "metadata": {},
   "source": [
    "## 特征构造\n",
    "### 聚合特征"
   ]
  },
  {
   "cell_type": "code",
   "execution_count": 2,
   "metadata": {},
   "outputs": [
    {
     "data": {
      "text/plain": [
       "9"
      ]
     },
     "execution_count": 2,
     "metadata": {},
     "output_type": "execute_result"
    }
   ],
   "source": [
    "seller_group = user_log.groupby([\"seller_id\",\"action_type\"]).count()[[\"user_id\"]].reset_index().rename(columns={'user_id':'count'})\n",
    "import gc\n",
    "del user_log\n",
    "gc.collect()"
   ]
  },
  {
   "cell_type": "code",
   "execution_count": 3,
   "metadata": {},
   "outputs": [
    {
     "data": {
      "text/html": [
       "<div>\n",
       "<style scoped>\n",
       "    .dataframe tbody tr th:only-of-type {\n",
       "        vertical-align: middle;\n",
       "    }\n",
       "\n",
       "    .dataframe tbody tr th {\n",
       "        vertical-align: top;\n",
       "    }\n",
       "\n",
       "    .dataframe thead th {\n",
       "        text-align: right;\n",
       "    }\n",
       "</style>\n",
       "<table border=\"1\" class=\"dataframe\">\n",
       "  <thead>\n",
       "    <tr style=\"text-align: right;\">\n",
       "      <th></th>\n",
       "      <th>seller_id</th>\n",
       "      <th>click_count</th>\n",
       "      <th>cart_count</th>\n",
       "      <th>sell_count</th>\n",
       "      <th>star_count</th>\n",
       "    </tr>\n",
       "  </thead>\n",
       "  <tbody>\n",
       "    <tr>\n",
       "      <th>0</th>\n",
       "      <td>1</td>\n",
       "      <td>160431</td>\n",
       "      <td>213</td>\n",
       "      <td>9187</td>\n",
       "      <td>6696</td>\n",
       "    </tr>\n",
       "    <tr>\n",
       "      <th>1</th>\n",
       "      <td>2</td>\n",
       "      <td>969</td>\n",
       "      <td>4</td>\n",
       "      <td>87</td>\n",
       "      <td>74</td>\n",
       "    </tr>\n",
       "    <tr>\n",
       "      <th>2</th>\n",
       "      <td>3</td>\n",
       "      <td>1212</td>\n",
       "      <td>1</td>\n",
       "      <td>25</td>\n",
       "      <td>78</td>\n",
       "    </tr>\n",
       "    <tr>\n",
       "      <th>3</th>\n",
       "      <td>4</td>\n",
       "      <td>1339</td>\n",
       "      <td>1</td>\n",
       "      <td>156</td>\n",
       "      <td>90</td>\n",
       "    </tr>\n",
       "    <tr>\n",
       "      <th>4</th>\n",
       "      <td>5</td>\n",
       "      <td>3762</td>\n",
       "      <td>4</td>\n",
       "      <td>87</td>\n",
       "      <td>290</td>\n",
       "    </tr>\n",
       "  </tbody>\n",
       "</table>\n",
       "</div>"
      ],
      "text/plain": [
       "   seller_id  click_count  cart_count  sell_count  star_count\n",
       "0          1       160431         213        9187        6696\n",
       "1          2          969           4          87          74\n",
       "2          3         1212           1          25          78\n",
       "3          4         1339           1         156          90\n",
       "4          5         3762           4          87         290"
      ]
     },
     "execution_count": 3,
     "metadata": {},
     "output_type": "execute_result"
    }
   ],
   "source": [
    "#seller_group = user_log.groupby([\"seller_id\",\"action_type\"]).count()[[\"user_id\"]].reset_index().rename(columns={'user_id':'count'})\n",
    "\n",
    "#渗透率：\n",
    "seller_feature = seller_group[seller_group['action_type']==0][['seller_id','count']].reset_index()[['seller_id','count']].rename(\n",
    "    columns={'count':'click_count'})\n",
    "\n",
    "def _get_action_cnt(num):\n",
    "    seller_df = seller_group[seller_group['action_type']==num]\n",
    "    cnt_list = []\n",
    "    for i in seller_feature['seller_id']:\n",
    "        l = list(seller_df['count'][seller_df['seller_id']==i])\n",
    "        if l:\n",
    "            cnt_list.append(l[0])\n",
    "        else:\n",
    "            cnt_list.append(0)\n",
    "    return cnt_list\n",
    "            \n",
    "seller_feature['cart_count'] = _get_action_cnt(1)\n",
    "seller_feature['sell_count'] = _get_action_cnt(2)\n",
    "seller_feature['star_count'] = _get_action_cnt(3)\n",
    "seller_feature.head()"
   ]
  },
  {
   "cell_type": "code",
   "execution_count": 6,
   "metadata": {},
   "outputs": [],
   "source": [
    "train_df = train_df.merge(seller_feature,on=\"merchant_id\",how='left').drop(['seller_id'],axis=1)\n",
    "test_df = test_df.merge(seller_feature,on=\"merchant_id\",how='left').drop(['seller_id'],axis=1)\n",
    "train_df.to_csv('train_v1.csv', index=False)\n",
    "test_df.to_csv('test_v1.csv',index=False)"
   ]
  },
  {
   "cell_type": "code",
   "execution_count": 2,
   "metadata": {},
   "outputs": [],
   "source": [
    "train_df = pd.read_csv('./train_v1.csv')\n",
    "test_df = pd.read_csv('./test_v1.csv')"
   ]
  },
  {
   "cell_type": "markdown",
   "metadata": {},
   "source": [
    "### 双11相关特征"
   ]
  },
  {
   "cell_type": "code",
   "execution_count": 3,
   "metadata": {},
   "outputs": [],
   "source": [
    "#都是新用户，就不用看action 2了\n",
    "for i in (0,1,3):\n",
    "    user_group = user_log[(user_log['time_stamp']<1111) & (user_log['action_type']==i)].groupby(\n",
    "        [\"user_id\",\"merchant_id\"]).count()[[\"action_type\"]].reset_index()\n",
    "    train_df = train_df.merge(user_group, on=['user_id','merchant_id'],how='left').rename(\n",
    "        columns={'action_type':'action_type{}'.format(i)})\n",
    "    test_df = test_df.merge(user_group, on=['user_id','merchant_id'],how='left').rename(\n",
    "        columns={'action_type':'action_type{}'.format(i)})\n",
    "\n"
   ]
  },
  {
   "cell_type": "code",
   "execution_count": 4,
   "metadata": {},
   "outputs": [],
   "source": [
    "for i in (0,1,3):\n",
    "    user_group = user_log[(user_log['time_stamp']==1111) & (user_log['action_type']==i)].groupby(\n",
    "        [\"user_id\",\"merchant_id\"]).count()[[\"action_type\"]].reset_index()\n",
    "    train_df = train_df.merge(user_group, on=['user_id','merchant_id'],how='left').rename(\n",
    "        columns={'action_type':'action_type{}_in1111'.format(i)})\n",
    "    test_df = test_df.merge(user_group, on=['user_id','merchant_id'],how='left').rename(\n",
    "        columns={'action_type':'action_type{}_in1111'.format(i)})"
   ]
  },
  {
   "cell_type": "code",
   "execution_count": 5,
   "metadata": {},
   "outputs": [],
   "source": [
    "train_df = train_df.fillna(0)\n",
    "test_df = test_df.fillna(0)"
   ]
  },
  {
   "cell_type": "code",
   "execution_count": 6,
   "metadata": {},
   "outputs": [],
   "source": [
    "for i in (0,1,3):\n",
    "    train_df['action{}_rate'.format(i)] = train_df.apply(lambda x:x['action_type{}_in1111'.format(i)]/x['action_type{}'.format(i)] if x['action_type{}'.format(i)]>0 else -1, axis=1)\n",
    "    test_df['action{}_rate'.format(i)] = test_df.apply(lambda x:x['action_type{}_in1111'.format(i)]/x['action_type{}'.format(i)] if x['action_type{}'.format(i)]>0 else -1, axis=1)"
   ]
  },
  {
   "cell_type": "code",
   "execution_count": 8,
   "metadata": {},
   "outputs": [],
   "source": [
    "train_df.to_csv('./train_v2.csv')\n",
    "test_df.to_csv('./test_v2.csv')"
   ]
  },
  {
   "cell_type": "code",
   "execution_count": null,
   "metadata": {},
   "outputs": [],
   "source": []
  },
  {
   "cell_type": "markdown",
   "metadata": {},
   "source": [
    "# 模型构建和训练&评估\n",
    "这一part在训练模型的时候，一定一定要考虑样本的不平衡问题！！！\n",
    "\n",
    "## 数据准备，评估函数准备"
   ]
  },
  {
   "cell_type": "code",
   "execution_count": 2,
   "metadata": {},
   "outputs": [],
   "source": [
    "from sklearn.model_selection import train_test_split\n",
    "from sklearn.linear_model import LogisticRegression\n",
    "from sklearn.metrics import classification_report\n",
    "import lightgbm as lgb\n",
    "\n",
    "x = train_df.drop(['user_id','merchant_id','label'],axis=1)\n",
    "y = train_df['label']\n",
    "\n",
    "x_train, x_val, y_train, y_val = train_test_split(x, y, test_size=.2, random_state = 42)"
   ]
  },
  {
   "cell_type": "code",
   "execution_count": 3,
   "metadata": {},
   "outputs": [],
   "source": [
    "from sklearn import metrics\n",
    "from matplotlib import pyplot as plt\n",
    "\n",
    "def plot_roc(y_test, y_score):\n",
    "    fpr,tpr,threshold = metrics.roc_curve(y_test, y_score)\n",
    "    roc_auc = metrics.auc(fpr,tpr)\n",
    "    plt.stackplot(fpr, tpr, color='steelblue', alpha = 0.5, edgecolor = 'black')\n",
    "    plt.plot(fpr, tpr, color='black', lw = 1)\n",
    "    plt.plot([0,1],[0,1], color = 'red', linestyle = '--')\n",
    "    plt.text(0.5,0.3,'ROC curve (area = %0.2f)' % roc_auc)\n",
    "    plt.xlabel('FPR')\n",
    "    plt.ylabel('TPR')\n",
    "    plt.title('ROC Curve')\n",
    "    plt.show()\n"
   ]
  },
  {
   "cell_type": "markdown",
   "metadata": {},
   "source": [
    "## 逻辑回归LR\n",
    "### 原始数据"
   ]
  },
  {
   "cell_type": "code",
   "execution_count": 19,
   "metadata": {},
   "outputs": [
    {
     "name": "stdout",
     "output_type": "stream",
     "text": [
      "模型的评估报告：\n",
      "              precision    recall  f1-score   support\n",
      "\n",
      "        0.0       0.94      1.00      0.97     73518\n",
      "        1.0       0.20      0.00      0.00      4742\n",
      "\n",
      "avg / total       0.89      0.94      0.91     78260\n",
      "\n"
     ]
    },
    {
     "data": {
      "image/png": "[encoded data removed]",
      "text/plain": [
       "<Figure size 432x288 with 1 Axes>"
      ]
     },
     "metadata": {
      "needs_background": "light"
     },
     "output_type": "display_data"
    }
   ],
   "source": [
    "#数据不平衡，recall很差\n",
    "lr = LogisticRegression(solver='liblinear')\n",
    "lr.fit(x_train, y_train)\n",
    "lr_pred = lr.predict(x_val)\n",
    "lr_proba = lr.predict_proba(x_val)\n",
    "print('模型的评估报告：\\n',classification_report(y_val, lr_pred))\n",
    "plot_roc(y_val, lr_proba[:,1])"
   ]
  },
  {
   "cell_type": "markdown",
   "metadata": {},
   "source": [
    "### 对样本作平衡处理\n",
    "调整了一下权重之后效果好多了"
   ]
  },
  {
   "cell_type": "code",
   "execution_count": 21,
   "metadata": {},
   "outputs": [
    {
     "name": "stdout",
     "output_type": "stream",
     "text": [
      "模型的评估报告：\n",
      "              precision    recall  f1-score   support\n",
      "\n",
      "        0.0       0.96      0.70      0.81     73518\n",
      "        1.0       0.10      0.50      0.17      4742\n",
      "\n",
      "avg / total       0.90      0.69      0.77     78260\n",
      "\n"
     ]
    },
    {
     "data": {
      "image/png": "[encoded data removed]",
      "text/plain": [
       "<Figure size 432x288 with 1 Axes>"
      ]
     },
     "metadata": {
      "needs_background": "light"
     },
     "output_type": "display_data"
    }
   ],
   "source": [
    "#balance一下\n",
    "lr = LogisticRegression(solver='liblinear',class_weight='balanced')\n",
    "lr.fit(x_train, y_train)\n",
    "lr_pred = lr.predict(x_val)\n",
    "lr_proba = lr.predict_proba(x_val)\n",
    "print('模型的评估报告：\\n',classification_report(y_val, lr_pred))\n",
    "plot_roc(y_val, lr_proba[:,1])"
   ]
  },
  {
   "cell_type": "markdown",
   "metadata": {},
   "source": [
    "## LightGBM"
   ]
  },
  {
   "cell_type": "code",
   "execution_count": null,
   "metadata": {},
   "outputs": [],
   "source": [
    "params = {\n",
    "        'verbose':0,\n",
    "        'min_data_in_leaf': 4,\n",
    "        'objective': 'binary',\n",
    "        'metric': 'auc',\n",
    "        'num_leaves': 32,\n",
    "        'n_estimators':2000,\n",
    "        #'max_bin': 50,\n",
    "        'max_depth':5,\n",
    "        \"learning_rate\": 0.01,\n",
    "        \"colsample_bytree\": 0.8,  # 每次迭代中随机选择特征的比例\n",
    "        \"bagging_fraction\": 0.8,  # 每次迭代时用的数据比例\n",
    "        'n_jobs': -1,\n",
    "        'silent': 1,  # 信息输出设置成1则没有信息输出\n",
    "        'seed': 42,\n",
    "        'bagging_freq':3,\n",
    "        'is_unbalance':True,\n",
    "        #'scale_pos_weight': wt\n",
    "    }  #设置出参数\n",
    "\n",
    "gbm = lgb.LGBMClassifier(**params)\n",
    "gbm.fit(x_train, y_train, \n",
    "            eval_metric='auc',\n",
    "    eval_set=[(x_train, y_train), (x_val, y_val)],\n",
    "        early_stopping_rounds=30)\n",
    "gbm_pred = gbm.predict(x_val)\n",
    "gbm_proba = gbm.predict_proba(x_val)\n",
    "print('模型的评估报告：\\n',classification_report(y_val, gbm_pred))\n",
    "plot_roc(y_val, gbm_proba[:,1])"
   ]
  },
  {
   "cell_type": "code",
   "execution_count": 12,
   "metadata": {},
   "outputs": [
    {
     "name": "stdout",
     "output_type": "stream",
     "text": [
      "模型的评估报告：\n",
      "               precision    recall  f1-score   support\n",
      "\n",
      "         0.0       0.96      0.71      0.82     49026\n",
      "         1.0       0.11      0.56      0.19      3147\n",
      "\n",
      "   micro avg       0.71      0.71      0.71     52173\n",
      "   macro avg       0.54      0.64      0.50     52173\n",
      "weighted avg       0.91      0.71      0.78     52173\n",
      "\n"
     ]
    },
    {
     "data": {
      "image/png": "[encoded data removed]",
      "text/plain": [
       "<Figure size 432x288 with 1 Axes>"
      ]
     },
     "metadata": {
      "needs_background": "light"
     },
     "output_type": "display_data"
    }
   ],
   "source": [
    "print('模型的评估报告：\\n',classification_report(y_val, gbm_pred))\n",
    "plot_roc(y_val, gbm_proba[:,1])"
   ]
  },
  {
   "cell_type": "markdown",
   "metadata": {},
   "source": [
    "## MLP（tensorflow）"
   ]
  },
  {
   "cell_type": "code",
   "execution_count": 1,
   "metadata": {},
   "outputs": [
    {
     "name": "stderr",
     "output_type": "stream",
     "text": [
      "Using TensorFlow backend.\n"
     ]
    }
   ],
   "source": [
    "import numpy as np\n",
    "np.random.seed(42)\n",
    "#import tensorflow.compat.v1 as tf\n",
    "from tensorflow.keras.models import Sequential\n",
    "from tensorflow.keras.layers import Dense, Activation, Dropout,BatchNormalization\n",
    "from keras.utils import np_utils\n",
    "from tensorflow.keras.optimizers import RMSprop,Adam\n",
    "from matplotlib import pyplot as plt"
   ]
  },
  {
   "cell_type": "code",
   "execution_count": 18,
   "metadata": {},
   "outputs": [],
   "source": [
    "x = train_df.drop(['user_id','merchant_id','label'],axis=1)\n",
    "y = train_df['label']"
   ]
  },
  {
   "cell_type": "code",
   "execution_count": 15,
   "metadata": {},
   "outputs": [],
   "source": [
    "from tensorflow.keras.utils import to_categorical\n",
    "y = to_categorical(y)"
   ]
  },
  {
   "cell_type": "code",
   "execution_count": 16,
   "metadata": {},
   "outputs": [],
   "source": [
    "import tensorflow as tf\n",
    "from sklearn.metrics import roc_auc_score\n",
    "\n",
    "def auc(y_true, y_pred):\n",
    "    return tf.py_func(roc_auc_score, (y_true, y_pred), tf.double)"
   ]
  },
  {
   "cell_type": "code",
   "execution_count": 31,
   "metadata": {},
   "outputs": [
    {
     "name": "stdout",
     "output_type": "stream",
     "text": [
      "Model: \"MLP0\"\n",
      "_________________________________________________________________\n",
      "Layer (type)                 Output Shape              Param #   \n",
      "=================================================================\n",
      "fc1 (Dense)                  (None, 128)               7296      \n",
      "_________________________________________________________________\n",
      "bn1 (BatchNormalization)     (None, 128)               512       \n",
      "_________________________________________________________________\n",
      "drpout1 (Dropout)            (None, 128)               0         \n",
      "_________________________________________________________________\n",
      "fc2 (Dense)                  (None, 256)               33024     \n",
      "_________________________________________________________________\n",
      "bn2 (BatchNormalization)     (None, 256)               1024      \n",
      "_________________________________________________________________\n",
      "drpout2 (Dropout)            (None, 256)               0         \n",
      "_________________________________________________________________\n",
      "output (Dense)               (None, 1)                 257       \n",
      "=================================================================\n",
      "Total params: 42,113\n",
      "Trainable params: 41,345\n",
      "Non-trainable params: 768\n",
      "_________________________________________________________________\n",
      "None\n",
      "Epoch 1/50\n",
      "1835/1835 [==============================] - 45s 24ms/step - loss: 1.4068 - auc: 0.5246 - val_loss: 0.8059 - val_auc: 0.5276\n",
      "Epoch 2/50\n",
      "1835/1835 [==============================] - 41s 23ms/step - loss: 1.2819 - auc: 0.5502 - val_loss: 0.6641 - val_auc: 0.5547\n",
      "Epoch 3/50\n",
      "1835/1835 [==============================] - 41s 22ms/step - loss: 1.2786 - auc: 0.5589 - val_loss: 0.6749 - val_auc: 0.5645\n",
      "Epoch 4/50\n",
      "1835/1835 [==============================] - 42s 23ms/step - loss: 1.2849 - auc: 0.5598 - val_loss: 0.6524 - val_auc: 0.5635\n",
      "Epoch 5/50\n",
      "1835/1835 [==============================] - 40s 22ms/step - loss: 1.2764 - auc: 0.5633 - val_loss: 0.7285 - val_auc: 0.5607\n",
      "Epoch 6/50\n",
      "1835/1835 [==============================] - 42s 23ms/step - loss: 1.2834 - auc: 0.5624 - val_loss: 0.5722 - val_auc: 0.5431\n",
      "Epoch 7/50\n",
      "1835/1835 [==============================] - 41s 22ms/step - loss: 1.2795 - auc: 0.5680 - val_loss: 0.6679 - val_auc: 0.5690\n",
      "Epoch 8/50\n",
      "1835/1835 [==============================] - 42s 23ms/step - loss: 1.2726 - auc: 0.5728 - val_loss: 0.6875 - val_auc: 0.5760\n",
      "Epoch 9/50\n",
      "1835/1835 [==============================] - 41s 22ms/step - loss: 1.2697 - auc: 0.5842 - val_loss: 0.6745 - val_auc: 0.5742\n",
      "Epoch 10/50\n",
      "1835/1835 [==============================] - 42s 23ms/step - loss: 1.2784 - auc: 0.5808 - val_loss: 0.6531 - val_auc: 0.5749\n",
      "Epoch 11/50\n",
      "1835/1835 [==============================] - 41s 22ms/step - loss: 1.2602 - auc: 0.5834 - val_loss: 0.7437 - val_auc: 0.5756\n",
      "Epoch 12/50\n",
      "1835/1835 [==============================] - 39s 21ms/step - loss: 1.2695 - auc: 0.5792 - val_loss: 0.7185 - val_auc: 0.5751\n",
      "Restoring model weights from the end of the best epoch.\n",
      "Epoch 00012: early stopping\n"
     ]
    },
    {
     "data": {
      "text/plain": [
       "<tensorflow.python.keras.callbacks.History at 0x7fa5d4cb05f8>"
      ]
     },
     "execution_count": 31,
     "metadata": {},
     "output_type": "execute_result"
    }
   ],
   "source": [
    "from tensorflow.keras.optimizers import Adam\n",
    "\n",
    "model = Sequential(name=\"MLP0\")\n",
    "\n",
    "#全连接\n",
    "model.add(Dense(input_dim=56, units=128,activation='relu',name='fc1'))\n",
    "model.add(BatchNormalization(name='bn1'))\n",
    "model.add(Dropout(0.3,name='drpout1'))\n",
    "model.add(Dense(256, activation='relu',name='fc2'))\n",
    "model.add(BatchNormalization(name='bn2'))\n",
    "model.add(Dropout(0.3,name='drpout2'))\n",
    "#最后的输出层\n",
    "model.add(Dense(1, activation='sigmoid',name='output'))\n",
    "\n",
    "print(model.summary())\n",
    "\"\"\"\n",
    "把参数都写在最前面是一个好习惯\n",
    "\"\"\"\n",
    "epoch = 50 \n",
    "batch_size = 128\n",
    "learning_rate = 0.01\n",
    "decay_rate = learning_rate / epoch\n",
    "#momentum = 0.8\n",
    "adam_optimizer = Adam(learning_rate=0.01,decay=decay_rate) #自定义优化器\n",
    "from tensorflow.keras.callbacks import EarlyStopping\n",
    "#monitor:监视参数,min_delta:小于此数认为不变化，mode:loss小好，acc大好，patience:n周期无提升则退出，restore_best_weights:取最优权重\n",
    "earlyStop = EarlyStopping(monitor='val_auc', min_delta=1e-6, patience=4, mode='max', verbose=1, restore_best_weights = True)\n",
    "#增加validation_data参数作为验证集，添加早停止机制，训练时打乱序列顺序\n",
    "#model.fit(x_train, y_train, callbacks=[earlyStop],  epochs=10, batch_size=32, validation_split=0.1, verbose = 1,shuffle=True)\n",
    "\n",
    "model.compile(optimizer = adam_optimizer,\n",
    "             loss='binary_crossentropy',\n",
    "              metrics=[tf.keras.metrics.AUC(curve='ROC', name = 'auc')]\n",
    "             )\n",
    "\n",
    "model.fit(x, y, epochs = epoch, callbacks=[earlyStop],class_weight={0:1,1:15},batch_size=batch_size, validation_split=0.1, verbose = 1,shuffle=True)\n",
    "\n",
    "#loss, accuracy = model.evaluate(x_test, y_test)\n",
    "#print('test loss:{}\\t'.format(loss),'\\ntest accuracy:{}'.format(accuracy))"
   ]
  },
  {
   "cell_type": "code",
   "execution_count": 20,
   "metadata": {},
   "outputs": [],
   "source": [
    "from sklearn.model_selection import train_test_split\n",
    "from sklearn.linear_model import LogisticRegression\n",
    "from sklearn.metrics import classification_report\n",
    "\n",
    "x = train_df.drop(['user_id','merchant_id','label'],axis=1)\n",
    "y = train_df['label']\n",
    "\n",
    "x_train, x_val, y_train, y_val = train_test_split(x, y, test_size=.2, random_state = 42)\n",
    "\n",
    "from sklearn import metrics\n",
    "from matplotlib import pyplot as plt\n",
    "\n",
    "def plot_roc(y_test, y_score):\n",
    "    fpr,tpr,threshold = metrics.roc_curve(y_test, y_score)\n",
    "    roc_auc = metrics.auc(fpr,tpr)\n",
    "    plt.stackplot(fpr, tpr, color='steelblue', alpha = 0.5, edgecolor = 'black')\n",
    "    plt.plot(fpr, tpr, color='black', lw = 1)\n",
    "    plt.plot([0,1],[0,1], color = 'red', linestyle = '--')\n",
    "    plt.text(0.5,0.3,'ROC curve (area = %0.2f)' % roc_auc)\n",
    "    plt.xlabel('FPR')\n",
    "    plt.ylabel('TPR')\n",
    "    plt.title('ROC Curve')\n",
    "    plt.show()\n"
   ]
  },
  {
   "cell_type": "code",
   "execution_count": 21,
   "metadata": {},
   "outputs": [],
   "source": [
    "mlp_proba = model.predict(x_val)"
   ]
  },
  {
   "cell_type": "code",
   "execution_count": 23,
   "metadata": {},
   "outputs": [
    {
     "data": {
      "image/png": "[encoded data removed]",
      "text/plain": [
       "<Figure size 432x288 with 1 Axes>"
      ]
     },
     "metadata": {
      "needs_background": "light"
     },
     "output_type": "display_data"
    }
   ],
   "source": [
    "#print('模型的评估报告：\\n',classification_report(y_val, gbm_pred))\n",
    "plot_roc(y_val, mlp_proba)"
   ]
  },
  {
   "cell_type": "markdown",
   "metadata": {},
   "source": [
    "# 最后输出预测结果\n",
    "用了LightGBM的结果"
   ]
  },
  {
   "cell_type": "code",
   "execution_count": null,
   "metadata": {},
   "outputs": [],
   "source": [
    "prob = gbm.predict_proba(test_df.drop(['user_id','merchant_id'],axis=1))\n",
    "test_df['prob'] = pd.Series(prob[:,1])\n",
    "test_df[['user_id, merchant_id','prob']].to_csv('prediction.csv')"
   ]
  },
  {
   "cell_type": "code",
   "execution_count": 1,
   "metadata": {},
   "outputs": [
    {
     "data": {
      "text/html": [
       "<div>\n",
       "<style scoped>\n",
       "    .dataframe tbody tr th:only-of-type {\n",
       "        vertical-align: middle;\n",
       "    }\n",
       "\n",
       "    .dataframe tbody tr th {\n",
       "        vertical-align: top;\n",
       "    }\n",
       "\n",
       "    .dataframe thead th {\n",
       "        text-align: right;\n",
       "    }\n",
       "</style>\n",
       "<table border=\"1\" class=\"dataframe\">\n",
       "  <thead>\n",
       "    <tr style=\"text-align: right;\">\n",
       "      <th></th>\n",
       "      <th>user_id</th>\n",
       "      <th>merchant_id</th>\n",
       "      <th>prob</th>\n",
       "    </tr>\n",
       "  </thead>\n",
       "  <tbody>\n",
       "    <tr>\n",
       "      <th>0</th>\n",
       "      <td>163968</td>\n",
       "      <td>4605</td>\n",
       "      <td>0.481369</td>\n",
       "    </tr>\n",
       "    <tr>\n",
       "      <th>1</th>\n",
       "      <td>360576</td>\n",
       "      <td>1581</td>\n",
       "      <td>0.597549</td>\n",
       "    </tr>\n",
       "    <tr>\n",
       "      <th>2</th>\n",
       "      <td>98688</td>\n",
       "      <td>1964</td>\n",
       "      <td>0.417265</td>\n",
       "    </tr>\n",
       "    <tr>\n",
       "      <th>3</th>\n",
       "      <td>98688</td>\n",
       "      <td>3645</td>\n",
       "      <td>0.295443</td>\n",
       "    </tr>\n",
       "    <tr>\n",
       "      <th>4</th>\n",
       "      <td>295296</td>\n",
       "      <td>3361</td>\n",
       "      <td>0.545527</td>\n",
       "    </tr>\n",
       "  </tbody>\n",
       "</table>\n",
       "</div>"
      ],
      "text/plain": [
       "   user_id  merchant_id      prob\n",
       "0   163968         4605  0.481369\n",
       "1   360576         1581  0.597549\n",
       "2    98688         1964  0.417265\n",
       "3    98688         3645  0.295443\n",
       "4   295296         3361  0.545527"
      ]
     },
     "execution_count": 1,
     "metadata": {},
     "output_type": "execute_result"
    }
   ],
   "source": [
    "pred = pd.read_csv('prediction.csv')\n",
    "pred.head()"
   ]
  },
  {
   "cell_type": "markdown",
   "metadata": {},
   "source": [
    "# 更多的讨论\n",
    "这个模型只是简单的把整个流程从头到尾走了一遍，虽然比较完整但还是有很多可以改进的地方，比如：\n",
    "\n",
    "特征构建部分没有考虑之前有购买行为的顾客（虽然这部分并不需要预测），这部分数据是不是可以利用起来？\n",
    "\n",
    "树模型的参数调整，是不是可以用一下交叉验证之类的方法？\n",
    "\n",
    "神经网络是不是可以考虑更复杂的模型？\n",
    "\n",
    "这些问题现在mark一下，有时间再继续更吧qwq，吃饭去了"
   ]
  },
  {
   "cell_type": "code",
   "execution_count": null,
   "metadata": {},
   "outputs": [],
   "source": []
  }
 ],
 "metadata": {
  "kernelspec": {
   "display_name": "Python 3 (ipykernel)",
   "language": "python",
   "name": "python3"
  },
  "language_info": {
   "codemirror_mode": {
    "name": "ipython",
    "version": 3
   },
   "file_extension": ".py",
   "mimetype": "text/x-python",
   "name": "python",
   "nbconvert_exporter": "python",
   "pygments_lexer": "ipython3",
   "version": "3.9.7"
  },
  "toc": {
   "base_numbering": 1,
   "nav_menu": {},
   "number_sections": true,
   "sideBar": true,
   "skip_h1_title": false,
   "title_cell": "Table of Contents",
   "title_sidebar": "Contents",
   "toc_cell": true,
   "toc_position": {
    "height": "calc(100% - 180px)",
    "left": "10px",
    "top": "150px",
    "width": "294.55px"
   },
   "toc_section_display": true,
   "toc_window_display": true
  }
 },
 "nbformat": 4,
 "nbformat_minor": 4
}
